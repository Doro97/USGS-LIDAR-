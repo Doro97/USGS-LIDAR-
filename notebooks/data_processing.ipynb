{
  "nbformat": 4,
  "nbformat_minor": 0,
  "metadata": {
    "colab": {
      "name": "data_processing.ipynb",
      "provenance": []
    },
    "kernelspec": {
      "name": "python3",
      "display_name": "Python 3"
    },
    "language_info": {
      "name": "python"
    }
  },
  "cells": [
    {
      "cell_type": "code",
      "metadata": {
        "id": "Hi_a5tX2Rov6"
      },
      "source": [
        "pip install geopandas\n"
      ],
      "execution_count": null,
      "outputs": []
    },
    {
      "cell_type": "code",
      "metadata": {
        "id": "NrOUPsMhRn1o"
      },
      "source": [
        "import warnings\n",
        "warnings.filterwarnings('ignore')\n",
        "import requests\n",
        "import folium\n",
        "import urllib\n",
        "from pandas.io.json import json_normalize\n",
        "import pandas as pd\n",
        "import folium\n",
        "from geopandas import GeoDataFrame\n",
        "from shapely.geometry import Point"
      ],
      "execution_count": 5,
      "outputs": []
    },
    {
      "cell_type": "code",
      "metadata": {
        "id": "P6E3Rw-PR8_A"
      },
      "source": [
        "# Get URL\n",
        "dataset_url = \"https://s3-us-west-2.amazonaws.com/usgs-lidar-public/IA_FullState/ept.json\"\n"
      ],
      "execution_count": 11,
      "outputs": []
    },
    {
      "cell_type": "code",
      "metadata": {
        "colab": {
          "base_uri": "https://localhost:8080/",
          "height": 35
        },
        "id": "jlxyfqWaUwWT",
        "outputId": "c4e00e7f-4639-4689-b80b-f03637b78718"
      },
      "source": [
        "dataset_url"
      ],
      "execution_count": 12,
      "outputs": [
        {
          "output_type": "execute_result",
          "data": {
            "application/vnd.google.colaboratory.intrinsic+json": {
              "type": "string"
            },
            "text/plain": [
              "'https://s3-us-west-2.amazonaws.com/usgs-lidar-public/IA_FullState/ept.json'"
            ]
          },
          "metadata": {},
          "execution_count": 12
        }
      ]
    },
    {
      "cell_type": "code",
      "metadata": {
        "colab": {
          "base_uri": "https://localhost:8080/"
        },
        "id": "kpg_kKIeUjjt",
        "outputId": "695cfe30-f68b-4e55-a6d9-7729ab553eb3"
      },
      "source": [
        "data = requests.get(dataset_url)\n",
        "data"
      ],
      "execution_count": 13,
      "outputs": [
        {
          "output_type": "execute_result",
          "data": {
            "text/plain": [
              "<Response [200]>"
            ]
          },
          "metadata": {},
          "execution_count": 13
        }
      ]
    },
    {
      "cell_type": "code",
      "metadata": {
        "colab": {
          "base_uri": "https://localhost:8080/"
        },
        "id": "NOXw6qaHUp8T",
        "outputId": "70c08765-4adc-43af-86e6-e2ccd307d117"
      },
      "source": [
        "type(data.json())"
      ],
      "execution_count": 14,
      "outputs": [
        {
          "output_type": "execute_result",
          "data": {
            "text/plain": [
              "dict"
            ]
          },
          "metadata": {},
          "execution_count": 14
        }
      ]
    },
    {
      "cell_type": "code",
      "metadata": {
        "colab": {
          "base_uri": "https://localhost:8080/"
        },
        "id": "FL3MGIzuU7B_",
        "outputId": "422be683-9796-4bf9-d899-dc1ef2d59991"
      },
      "source": [
        "data.json()"
      ],
      "execution_count": 16,
      "outputs": [
        {
          "output_type": "execute_result",
          "data": {
            "text/plain": [
              "{'bounds': [-10758075, 4793202, -361911, -10034133, 5517144, 362031],\n",
              " 'boundsConforming': [-10758074, 4920531, -1897, -10034134, 5389814, 2017],\n",
              " 'dataType': 'laszip',\n",
              " 'hierarchyType': 'json',\n",
              " 'points': 167692896718,\n",
              " 'reprojection': {'in': 'EPSG:26915', 'out': 'EPSG:3857'},\n",
              " 'schema': [{'name': 'X',\n",
              "   'offset': -10396104,\n",
              "   'scale': 0.01,\n",
              "   'size': 4,\n",
              "   'type': 'signed'},\n",
              "  {'name': 'Y', 'offset': 5155173, 'scale': 0.01, 'size': 4, 'type': 'signed'},\n",
              "  {'name': 'Z', 'offset': 60, 'scale': 0.01, 'size': 4, 'type': 'signed'},\n",
              "  {'name': 'Intensity', 'size': 2, 'type': 'unsigned'},\n",
              "  {'name': 'ReturnNumber', 'size': 1, 'type': 'unsigned'},\n",
              "  {'name': 'NumberOfReturns', 'size': 1, 'type': 'unsigned'},\n",
              "  {'name': 'ScanDirectionFlag', 'size': 1, 'type': 'unsigned'},\n",
              "  {'name': 'EdgeOfFlightLine', 'size': 1, 'type': 'unsigned'},\n",
              "  {'name': 'Classification', 'size': 1, 'type': 'unsigned'},\n",
              "  {'name': 'ScanAngleRank', 'size': 4, 'type': 'float'},\n",
              "  {'name': 'UserData', 'size': 1, 'type': 'unsigned'},\n",
              "  {'name': 'PointSourceId', 'size': 2, 'type': 'unsigned'},\n",
              "  {'name': 'GpsTime', 'size': 8, 'type': 'float'},\n",
              "  {'name': 'OriginId', 'size': 4, 'type': 'unsigned'}],\n",
              " 'span': 256,\n",
              " 'srs': {'authority': 'EPSG',\n",
              "  'horizontal': '3857',\n",
              "  'wkt': 'PROJCS[\"WGS 84 / Pseudo-Mercator\",GEOGCS[\"WGS 84\",DATUM[\"WGS_1984\",SPHEROID[\"WGS 84\",6378137,298.257223563,AUTHORITY[\"EPSG\",\"7030\"]],AUTHORITY[\"EPSG\",\"6326\"]],PRIMEM[\"Greenwich\",0,AUTHORITY[\"EPSG\",\"8901\"]],UNIT[\"degree\",0.0174532925199433,AUTHORITY[\"EPSG\",\"9122\"]],AUTHORITY[\"EPSG\",\"4326\"]],PROJECTION[\"Mercator_1SP\"],PARAMETER[\"central_meridian\",0],PARAMETER[\"scale_factor\",1],PARAMETER[\"false_easting\",0],PARAMETER[\"false_northing\",0],UNIT[\"metre\",1,AUTHORITY[\"EPSG\",\"9001\"]],AXIS[\"X\",EAST],AXIS[\"Y\",NORTH],EXTENSION[\"PROJ4\",\"+proj=merc +a=6378137 +b=6378137 +lat_ts=0.0 +lon_0=0.0 +x_0=0.0 +y_0=0 +k=1.0 +units=m +nadgrids=@null +wktext +no_defs\"],AUTHORITY[\"EPSG\",\"3857\"]]'},\n",
              " 'version': '1.1.0'}"
            ]
          },
          "metadata": {},
          "execution_count": 16
        }
      ]
    },
    {
      "cell_type": "code",
      "metadata": {
        "colab": {
          "base_uri": "https://localhost:8080/",
          "height": 168
        },
        "id": "8p0Cyw3NVBr3",
        "outputId": "bf7f48b6-f1d2-4af0-f5e4-c39594a072f7"
      },
      "source": [
        "result = json_normalize(data.json())\n",
        "result"
      ],
      "execution_count": 18,
      "outputs": [
        {
          "output_type": "execute_result",
          "data": {
            "text/html": [
              "<div>\n",
              "<style scoped>\n",
              "    .dataframe tbody tr th:only-of-type {\n",
              "        vertical-align: middle;\n",
              "    }\n",
              "\n",
              "    .dataframe tbody tr th {\n",
              "        vertical-align: top;\n",
              "    }\n",
              "\n",
              "    .dataframe thead th {\n",
              "        text-align: right;\n",
              "    }\n",
              "</style>\n",
              "<table border=\"1\" class=\"dataframe\">\n",
              "  <thead>\n",
              "    <tr style=\"text-align: right;\">\n",
              "      <th></th>\n",
              "      <th>bounds</th>\n",
              "      <th>boundsConforming</th>\n",
              "      <th>dataType</th>\n",
              "      <th>hierarchyType</th>\n",
              "      <th>points</th>\n",
              "      <th>schema</th>\n",
              "      <th>version</th>\n",
              "      <th>span</th>\n",
              "      <th>reprojection.in</th>\n",
              "      <th>reprojection.out</th>\n",
              "      <th>srs.authority</th>\n",
              "      <th>srs.horizontal</th>\n",
              "      <th>srs.wkt</th>\n",
              "    </tr>\n",
              "  </thead>\n",
              "  <tbody>\n",
              "    <tr>\n",
              "      <th>0</th>\n",
              "      <td>[-10758075, 4793202, -361911, -10034133, 55171...</td>\n",
              "      <td>[-10758074, 4920531, -1897, -10034134, 5389814...</td>\n",
              "      <td>laszip</td>\n",
              "      <td>json</td>\n",
              "      <td>167692896718</td>\n",
              "      <td>[{'name': 'X', 'offset': -10396104, 'scale': 0...</td>\n",
              "      <td>1.1.0</td>\n",
              "      <td>256</td>\n",
              "      <td>EPSG:26915</td>\n",
              "      <td>EPSG:3857</td>\n",
              "      <td>EPSG</td>\n",
              "      <td>3857</td>\n",
              "      <td>PROJCS[\"WGS 84 / Pseudo-Mercator\",GEOGCS[\"WGS ...</td>\n",
              "    </tr>\n",
              "  </tbody>\n",
              "</table>\n",
              "</div>"
            ],
            "text/plain": [
              "                                              bounds  ...                                            srs.wkt\n",
              "0  [-10758075, 4793202, -361911, -10034133, 55171...  ...  PROJCS[\"WGS 84 / Pseudo-Mercator\",GEOGCS[\"WGS ...\n",
              "\n",
              "[1 rows x 13 columns]"
            ]
          },
          "metadata": {},
          "execution_count": 18
        }
      ]
    },
    {
      "cell_type": "code",
      "metadata": {
        "colab": {
          "base_uri": "https://localhost:8080/",
          "height": 80
        },
        "id": "soI18qQwVYDg",
        "outputId": "cd14999a-e92b-497d-9a11-4185f4e1fa75"
      },
      "source": [
        "import geopandas as gpd\n",
        "from shapely.geometry import Polygon\n",
        "MINX, MINY, MAXX, MAXY = [-93.756155, 41.918015, -93.747334, 41.921429]\n",
        "polygon = Polygon(((MINX, MINY), (MINX, MAXY), (MAXX, MAXY), (MAXX, MINY), (MINX, MINY)))\n",
        "\n",
        "grid = gpd.GeoDataFrame([polygon], columns=[\"geometry\"])\n",
        "grid.set_crs(epsg=4326, inplace=True)"
      ],
      "execution_count": 24,
      "outputs": [
        {
          "output_type": "execute_result",
          "data": {
            "text/html": [
              "<div>\n",
              "<style scoped>\n",
              "    .dataframe tbody tr th:only-of-type {\n",
              "        vertical-align: middle;\n",
              "    }\n",
              "\n",
              "    .dataframe tbody tr th {\n",
              "        vertical-align: top;\n",
              "    }\n",
              "\n",
              "    .dataframe thead th {\n",
              "        text-align: right;\n",
              "    }\n",
              "</style>\n",
              "<table border=\"1\" class=\"dataframe\">\n",
              "  <thead>\n",
              "    <tr style=\"text-align: right;\">\n",
              "      <th></th>\n",
              "      <th>geometry</th>\n",
              "    </tr>\n",
              "  </thead>\n",
              "  <tbody>\n",
              "    <tr>\n",
              "      <th>0</th>\n",
              "      <td>POLYGON ((-93.75616 41.91801, -93.75616 41.921...</td>\n",
              "    </tr>\n",
              "  </tbody>\n",
              "</table>\n",
              "</div>"
            ],
            "text/plain": [
              "                                            geometry\n",
              "0  POLYGON ((-93.75616 41.91801, -93.75616 41.921..."
            ]
          },
          "metadata": {},
          "execution_count": 24
        }
      ]
    },
    {
      "cell_type": "code",
      "metadata": {
        "id": "lMqynGTzV7bq"
      },
      "source": [
        "#write back to file\n",
        "grid.to_file(\"iowa.geojson\", driver=\"GeoJSON\")"
      ],
      "execution_count": 27,
      "outputs": []
    },
    {
      "cell_type": "code",
      "metadata": {
        "id": "h8G2qfZ0Zdhd"
      },
      "source": [
        "#creating additional features\n",
        "grid['boundary'] = grid.boundary\n",
        "grid[\"area\"] = grid.area\n",
        "grid['centroid'] = grid.centroid"
      ],
      "execution_count": 30,
      "outputs": []
    },
    {
      "cell_type": "code",
      "metadata": {
        "colab": {
          "base_uri": "https://localhost:8080/",
          "height": 80
        },
        "id": "-DEcu9HaaG0f",
        "outputId": "25c6add9-89e4-4020-a8bc-76382c59f4b4"
      },
      "source": [
        "grid"
      ],
      "execution_count": 31,
      "outputs": [
        {
          "output_type": "execute_result",
          "data": {
            "text/html": [
              "<div>\n",
              "<style scoped>\n",
              "    .dataframe tbody tr th:only-of-type {\n",
              "        vertical-align: middle;\n",
              "    }\n",
              "\n",
              "    .dataframe tbody tr th {\n",
              "        vertical-align: top;\n",
              "    }\n",
              "\n",
              "    .dataframe thead th {\n",
              "        text-align: right;\n",
              "    }\n",
              "</style>\n",
              "<table border=\"1\" class=\"dataframe\">\n",
              "  <thead>\n",
              "    <tr style=\"text-align: right;\">\n",
              "      <th></th>\n",
              "      <th>geometry</th>\n",
              "      <th>boundary</th>\n",
              "      <th>area</th>\n",
              "      <th>centroid</th>\n",
              "    </tr>\n",
              "  </thead>\n",
              "  <tbody>\n",
              "    <tr>\n",
              "      <th>0</th>\n",
              "      <td>POLYGON ((-93.75616 41.91801, -93.75616 41.921...</td>\n",
              "      <td>LINESTRING (-93.75616 41.91801, -93.75616 41.9...</td>\n",
              "      <td>0.00003</td>\n",
              "      <td>POINT (-93.75174 41.91972)</td>\n",
              "    </tr>\n",
              "  </tbody>\n",
              "</table>\n",
              "</div>"
            ],
            "text/plain": [
              "                                            geometry  ...                    centroid\n",
              "0  POLYGON ((-93.75616 41.91801, -93.75616 41.921...  ...  POINT (-93.75174 41.91972)\n",
              "\n",
              "[1 rows x 4 columns]"
            ]
          },
          "metadata": {},
          "execution_count": 31
        }
      ]
    },
    {
      "cell_type": "code",
      "metadata": {
        "colab": {
          "base_uri": "https://localhost:8080/",
          "height": 276
        },
        "id": "VhQdu3A9aLAM",
        "outputId": "5878099d-bcd6-486c-a284-384e727d63c9"
      },
      "source": [
        "grid.plot(\"area\", legend=True)"
      ],
      "execution_count": 32,
      "outputs": [
        {
          "output_type": "execute_result",
          "data": {
            "text/plain": [
              "<matplotlib.axes._subplots.AxesSubplot at 0x7f998a402c50>"
            ]
          },
          "metadata": {},
          "execution_count": 32
        },
        {
          "output_type": "display_data",
          "data": {
            "image/png": "[encoded data removed]",
            "text/plain": [
              "<Figure size 432x288 with 2 Axes>"
            ]
          },
          "metadata": {
            "needs_background": "light"
          }
        }
      ]
    },
    {
      "cell_type": "code",
      "metadata": {
        "colab": {
          "base_uri": "https://localhost:8080/",
          "height": 276
        },
        "id": "q__CjO9oa-x8",
        "outputId": "dc1fd9bd-f165-4544-cb93-87e4364353ca"
      },
      "source": [
        "grid1 = grid.set_geometry(\"centroid\")\n",
        "grid1.plot(\"area\", legend=True)"
      ],
      "execution_count": 34,
      "outputs": [
        {
          "output_type": "execute_result",
          "data": {
            "text/plain": [
              "<matplotlib.axes._subplots.AxesSubplot at 0x7f998222ffd0>"
            ]
          },
          "metadata": {},
          "execution_count": 34
        },
        {
          "output_type": "display_data",
          "data": {
            "image/png": "[encoded data removed]",
            "text/plain": [
              "<Figure size 432x288 with 2 Axes>"
            ]
          },
          "metadata": {
            "needs_background": "light"
          }
        }
      ]
    },
    {
      "cell_type": "code",
      "metadata": {
        "colab": {
          "base_uri": "https://localhost:8080/"
        },
        "id": "1hTJa50_bKrE",
        "outputId": "6787bf1b-de16-45b7-9630-70284ddf5f60"
      },
      "source": [
        "grid.crs"
      ],
      "execution_count": 35,
      "outputs": [
        {
          "output_type": "execute_result",
          "data": {
            "text/plain": [
              "<Geographic 2D CRS: EPSG:4326>\n",
              "Name: WGS 84\n",
              "Axis Info [ellipsoidal]:\n",
              "- Lat[north]: Geodetic latitude (degree)\n",
              "- Lon[east]: Geodetic longitude (degree)\n",
              "Area of Use:\n",
              "- name: World.\n",
              "- bounds: (-180.0, -90.0, 180.0, 90.0)\n",
              "Datum: World Geodetic System 1984 ensemble\n",
              "- Ellipsoid: WGS 84\n",
              "- Prime Meridian: Greenwich"
            ]
          },
          "metadata": {},
          "execution_count": 35
        }
      ]
    },
    {
      "cell_type": "code",
      "metadata": {
        "id": "JNS6YnADbVbY"
      },
      "source": [
        ""
      ],
      "execution_count": null,
      "outputs": []
    }
  ]
}