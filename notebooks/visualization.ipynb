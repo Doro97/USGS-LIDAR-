{
 "cells": [
  {
   "cell_type": "code",
   "execution_count": null,
   "source": [
    "# Import necessary packages\r\n",
    "import os\r\n",
    "import matplotlib.pyplot as plt\r\n"
   ],
   "outputs": [],
   "metadata": {}
  }
 ],
 "metadata": {
  "orig_nbformat": 4,
  "language_info": {
   "name": "python",
   "version": "3.9.6"
  },
  "kernelspec": {
   "name": "python3",
   "display_name": "Python 3.9.6 64-bit ('gis': conda)"
  },
  "interpreter": {
   "hash": "20d76c19edc800d9e6efa4c78b6b793b355f7ea4b25ab8d3267a9f4a31124e6f"
  }
 },
 "nbformat": 4,
 "nbformat_minor": 2
}